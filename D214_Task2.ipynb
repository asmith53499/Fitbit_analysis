{
 "cells": [
  {
   "cell_type": "markdown",
   "metadata": {},
   "source": [
    "# Begin Original Model"
   ]
  },
  {
   "cell_type": "code",
   "execution_count": 1,
   "metadata": {
    "scrolled": false
   },
   "outputs": [
    {
     "name": "stderr",
     "output_type": "stream",
     "text": [
      "C:\\Anaconda3\\lib\\site-packages\\statsmodels\\tsa\\tsatools.py:142: FutureWarning: In a future version of pandas all arguments of concat except for the argument 'objs' will be keyword-only\n",
      "  x = pd.concat(x[::order], 1)\n"
     ]
    },
    {
     "name": "stdout",
     "output_type": "stream",
     "text": [
      "Optimization terminated successfully.\n",
      "         Current function value: 0.401385\n",
      "         Iterations 7\n"
     ]
    },
    {
     "data": {
      "text/html": [
       "<table class=\"simpletable\">\n",
       "<caption>Logit Regression Results</caption>\n",
       "<tr>\n",
       "  <th>Dep. Variable:</th>         <td>Churn</td>      <th>  No. Observations:  </th>  <td> 10000</td> \n",
       "</tr>\n",
       "<tr>\n",
       "  <th>Model:</th>                 <td>Logit</td>      <th>  Df Residuals:      </th>  <td>  9994</td> \n",
       "</tr>\n",
       "<tr>\n",
       "  <th>Method:</th>                 <td>MLE</td>       <th>  Df Model:          </th>  <td>     5</td> \n",
       "</tr>\n",
       "<tr>\n",
       "  <th>Date:</th>            <td>Sun, 22 Aug 2021</td> <th>  Pseudo R-squ.:     </th>  <td>0.3058</td> \n",
       "</tr>\n",
       "<tr>\n",
       "  <th>Time:</th>                <td>18:25:25</td>     <th>  Log-Likelihood:    </th> <td> -4013.8</td>\n",
       "</tr>\n",
       "<tr>\n",
       "  <th>converged:</th>             <td>True</td>       <th>  LL-Null:           </th> <td> -5782.2</td>\n",
       "</tr>\n",
       "<tr>\n",
       "  <th>Covariance Type:</th>     <td>nonrobust</td>    <th>  LLR p-value:       </th>  <td> 0.000</td> \n",
       "</tr>\n",
       "</table>\n",
       "<table class=\"simpletable\">\n",
       "<tr>\n",
       "      <td></td>        <th>coef</th>     <th>std err</th>      <th>z</th>      <th>P>|z|</th>  <th>[0.025</th>    <th>0.975]</th>  \n",
       "</tr>\n",
       "<tr>\n",
       "  <th>const</th>    <td>    0.9501</td> <td>    0.133</td> <td>    7.162</td> <td> 0.000</td> <td>    0.690</td> <td>    1.210</td>\n",
       "</tr>\n",
       "<tr>\n",
       "  <th>Age</th>      <td>    0.0015</td> <td>    0.001</td> <td>    1.080</td> <td> 0.280</td> <td>   -0.001</td> <td>    0.004</td>\n",
       "</tr>\n",
       "<tr>\n",
       "  <th>Income</th>   <td> 5.893e-07</td> <td> 9.83e-07</td> <td>    0.599</td> <td> 0.549</td> <td>-1.34e-06</td> <td> 2.52e-06</td>\n",
       "</tr>\n",
       "<tr>\n",
       "  <th>Outage</th>   <td>    0.0037</td> <td>    0.009</td> <td>    0.398</td> <td> 0.691</td> <td>   -0.015</td> <td>    0.022</td>\n",
       "</tr>\n",
       "<tr>\n",
       "  <th>Contract</th> <td>   -1.0149</td> <td>    0.038</td> <td>  -26.568</td> <td> 0.000</td> <td>   -1.090</td> <td>   -0.940</td>\n",
       "</tr>\n",
       "<tr>\n",
       "  <th>Tenure</th>   <td>   -0.0598</td> <td>    0.001</td> <td>  -41.707</td> <td> 0.000</td> <td>   -0.063</td> <td>   -0.057</td>\n",
       "</tr>\n",
       "</table>"
      ],
      "text/plain": [
       "<class 'statsmodels.iolib.summary.Summary'>\n",
       "\"\"\"\n",
       "                           Logit Regression Results                           \n",
       "==============================================================================\n",
       "Dep. Variable:                  Churn   No. Observations:                10000\n",
       "Model:                          Logit   Df Residuals:                     9994\n",
       "Method:                           MLE   Df Model:                            5\n",
       "Date:                Sun, 22 Aug 2021   Pseudo R-squ.:                  0.3058\n",
       "Time:                        18:25:25   Log-Likelihood:                -4013.8\n",
       "converged:                       True   LL-Null:                       -5782.2\n",
       "Covariance Type:            nonrobust   LLR p-value:                     0.000\n",
       "==============================================================================\n",
       "                 coef    std err          z      P>|z|      [0.025      0.975]\n",
       "------------------------------------------------------------------------------\n",
       "const          0.9501      0.133      7.162      0.000       0.690       1.210\n",
       "Age            0.0015      0.001      1.080      0.280      -0.001       0.004\n",
       "Income      5.893e-07   9.83e-07      0.599      0.549   -1.34e-06    2.52e-06\n",
       "Outage         0.0037      0.009      0.398      0.691      -0.015       0.022\n",
       "Contract      -1.0149      0.038    -26.568      0.000      -1.090      -0.940\n",
       "Tenure        -0.0598      0.001    -41.707      0.000      -0.063      -0.057\n",
       "==============================================================================\n",
       "\"\"\""
      ]
     },
     "execution_count": 1,
     "metadata": {},
     "output_type": "execute_result"
    }
   ],
   "source": [
    "##This will be the original model, using OLS\n",
    "\n",
    "## Import the packages\n",
    "import numpy as np\n",
    "import pandas as pd\n",
    "import seaborn as sns\n",
    "from scipy import stats\n",
    "import matplotlib.pyplot as plt\n",
    "import matplotlib as mpl\n",
    "import pylab\n",
    "\n",
    "import statsmodels.api as sm\n",
    "from statsmodels.stats import diagnostic as diag\n",
    "from statsmodels.stats.outliers_influence import variance_inflation_factor\n",
    "\n",
    "from sklearn.linear_model import LogisticRegression\n",
    "from sklearn import metrics\n",
    "from sklearn.metrics import confusion_matrix\n",
    "from sklearn.metrics import classification_report\n",
    "from sklearn.model_selection import train_test_split\n",
    "from sklearn.metrics import mean_squared_error, r2_score, mean_absolute_error\n",
    "\n",
    "\n",
    "df = pd.read_csv(\"churn_clean.csv\", usecols=[15,16,19,20,25,39], names=['Age','Income','Churn','Outage','Contract','Tenure'], skiprows = [0])\n",
    "df['Contract'].replace({'Month-to-month':0,'One year':1,'Two Year':2},inplace = True)\n",
    "df['Churn'].replace({'No':0,'Yes':1},inplace = True)\n",
    "#df['Churn'].value_counts()\n",
    "#df.groupby('Churn').mean()\n",
    "\n",
    "\n",
    "###########################################################BEGIN REDUCED MODEL CODE\n",
    "##Create the X and Y Datasets\n",
    "##Remove the Tenure and Bandwidth datapoints\n",
    "#df = df.drop(['Outage','Income'],axis = 1)\n",
    "\n",
    "#df.to_csv('D208_task2_Data.csv')\n",
    "O_X = df.drop('Churn', axis =1)\n",
    "O_Y = df[['Churn']]\n",
    "\n",
    "# Split X and y into X_\n",
    "from sklearn.model_selection import train_test_split\n",
    "X_train, X_test, y_train, y_test = train_test_split(O_X, O_Y, test_size=0.25, random_state=0)\n",
    "\n",
    "# create a Linear Regression model object\n",
    "lr = LogisticRegression(solver='lbfgs')\n",
    "\n",
    "# pass through the X_train & y_train data set\n",
    "lr.fit(X_train, y_train.values.ravel())\n",
    "\n",
    "# Returns a NumPy Array\n",
    "\n",
    "y_pred = lr.predict(X_test)\n",
    "\n",
    "\n",
    "\n",
    "\n",
    "Xc = sm.add_constant(O_X)\n",
    "logistic_regression = sm.Logit(O_Y,Xc)\n",
    "fitted_model = logistic_regression.fit()\n",
    "fitted_model.summary()\n",
    "\n",
    "\n"
   ]
  },
  {
   "cell_type": "code",
   "execution_count": 2,
   "metadata": {},
   "outputs": [
    {
     "name": "stdout",
     "output_type": "stream",
     "text": [
      "Score of Prediction:\n",
      "0.8125333333333333\n"
     ]
    },
    {
     "data": {
      "image/png": "[encoded data removed]",
      "text/plain": [
       "<Figure size 288x288 with 2 Axes>"
      ]
     },
     "metadata": {
      "needs_background": "light"
     },
     "output_type": "display_data"
    },
    {
     "data": {
      "image/png": "[encoded data removed]",
      "text/plain": [
       "<Figure size 432x288 with 1 Axes>"
      ]
     },
     "metadata": {
      "needs_background": "light"
     },
     "output_type": "display_data"
    },
    {
     "name": "stdout",
     "output_type": "stream",
     "text": [
      "              precision    recall  f1-score   support\n",
      "\n",
      "           0       0.86      0.88      0.87      1840\n",
      "           1       0.65      0.60      0.63       660\n",
      "\n",
      "    accuracy                           0.81      2500\n",
      "   macro avg       0.76      0.74      0.75      2500\n",
      "weighted avg       0.81      0.81      0.81      2500\n",
      "\n",
      "Accuracy: 0.8104\n",
      "Precision: 0.6519607843137255\n",
      "Recall: 0.6045454545454545\n"
     ]
    },
    {
     "data": {
      "image/png": "[encoded data removed]",
      "text/plain": [
       "<Figure size 432x288 with 1 Axes>"
      ]
     },
     "metadata": {
      "needs_background": "light"
     },
     "output_type": "display_data"
    }
   ],
   "source": [
    "# Predict for One Observation (image)\n",
    "score = lr.score(X_train,y_train)\n",
    "print(\"Score of Prediction:\")\n",
    "print(score)\n",
    "\n",
    "\n",
    "#cnf_matrix = metrics.confusion_matrix(y_test, y_pred)\n",
    "plt.matshow(confusion_matrix(y_test, y_pred))\n",
    "plt.title('Confusion matrix')\n",
    "plt.colorbar()\n",
    "plt.ylabel('True label')\n",
    "plt.xlabel('Predicted label')\n",
    "plt.show()\n",
    "\n",
    "def model(x):\n",
    "    return 1 / (1 + np.exp(-x))\n",
    "\n",
    "X_vals = np.linspace(-10, 10, 1000)\n",
    "plt.plot(X_vals, model(X_vals), color='blue', linewidth=3)\n",
    "plt.ylabel('sigma(t)')\n",
    "plt.xlabel('t')\n",
    "\n",
    "plt.show()\n",
    "print(classification_report(y_test, lr.predict(X_test)))\n",
    "\n",
    "\n",
    "print(\"Accuracy:\",metrics.accuracy_score(y_test, y_pred))\n",
    "print(\"Precision:\",metrics.precision_score(y_test, y_pred))\n",
    "print(\"Recall:\",metrics.recall_score(y_test, y_pred))\n",
    "\n",
    "\n",
    "\n",
    "\n",
    "y_pred_proba = lr.predict_proba(X_test)[::,1]\n",
    "fpr, tpr, _ = metrics.roc_curve(y_test,  y_pred_proba)\n",
    "auc = metrics.roc_auc_score(y_test, y_pred_proba)\n",
    "plt.plot(fpr,tpr,label=\"data 1, auc=\"+str(auc))\n",
    "plt.legend(loc=4)\n",
    "plt.show()"
   ]
  },
  {
   "cell_type": "markdown",
   "metadata": {},
   "source": [
    "# Begin the Reduced Model"
   ]
  },
  {
   "cell_type": "code",
   "execution_count": 3,
   "metadata": {},
   "outputs": [
    {
     "name": "stdout",
     "output_type": "stream",
     "text": [
      "Optimization terminated successfully.\n",
      "         Current function value: 0.401410\n",
      "         Iterations 7\n"
     ]
    },
    {
     "name": "stderr",
     "output_type": "stream",
     "text": [
      "C:\\Anaconda3\\lib\\site-packages\\statsmodels\\tsa\\tsatools.py:142: FutureWarning: In a future version of pandas all arguments of concat except for the argument 'objs' will be keyword-only\n",
      "  x = pd.concat(x[::order], 1)\n"
     ]
    },
    {
     "data": {
      "text/html": [
       "<table class=\"simpletable\">\n",
       "<caption>Logit Regression Results</caption>\n",
       "<tr>\n",
       "  <th>Dep. Variable:</th>         <td>Churn</td>      <th>  No. Observations:  </th>  <td> 10000</td> \n",
       "</tr>\n",
       "<tr>\n",
       "  <th>Model:</th>                 <td>Logit</td>      <th>  Df Residuals:      </th>  <td>  9996</td> \n",
       "</tr>\n",
       "<tr>\n",
       "  <th>Method:</th>                 <td>MLE</td>       <th>  Df Model:          </th>  <td>     3</td> \n",
       "</tr>\n",
       "<tr>\n",
       "  <th>Date:</th>            <td>Sun, 22 Aug 2021</td> <th>  Pseudo R-squ.:     </th>  <td>0.3058</td> \n",
       "</tr>\n",
       "<tr>\n",
       "  <th>Time:</th>                <td>18:25:26</td>     <th>  Log-Likelihood:    </th> <td> -4014.1</td>\n",
       "</tr>\n",
       "<tr>\n",
       "  <th>converged:</th>             <td>True</td>       <th>  LL-Null:           </th> <td> -5782.2</td>\n",
       "</tr>\n",
       "<tr>\n",
       "  <th>Covariance Type:</th>     <td>nonrobust</td>    <th>  LLR p-value:       </th>  <td> 0.000</td> \n",
       "</tr>\n",
       "</table>\n",
       "<table class=\"simpletable\">\n",
       "<tr>\n",
       "      <td></td>        <th>coef</th>     <th>std err</th>      <th>z</th>      <th>P>|z|</th>  <th>[0.025</th>    <th>0.975]</th>  \n",
       "</tr>\n",
       "<tr>\n",
       "  <th>const</th>    <td>    1.0116</td> <td>    0.084</td> <td>   12.054</td> <td> 0.000</td> <td>    0.847</td> <td>    1.176</td>\n",
       "</tr>\n",
       "<tr>\n",
       "  <th>Age</th>      <td>    0.0014</td> <td>    0.001</td> <td>    1.065</td> <td> 0.287</td> <td>   -0.001</td> <td>    0.004</td>\n",
       "</tr>\n",
       "<tr>\n",
       "  <th>Contract</th> <td>   -1.0149</td> <td>    0.038</td> <td>  -26.572</td> <td> 0.000</td> <td>   -1.090</td> <td>   -0.940</td>\n",
       "</tr>\n",
       "<tr>\n",
       "  <th>Tenure</th>   <td>   -0.0597</td> <td>    0.001</td> <td>  -41.708</td> <td> 0.000</td> <td>   -0.063</td> <td>   -0.057</td>\n",
       "</tr>\n",
       "</table>"
      ],
      "text/plain": [
       "<class 'statsmodels.iolib.summary.Summary'>\n",
       "\"\"\"\n",
       "                           Logit Regression Results                           \n",
       "==============================================================================\n",
       "Dep. Variable:                  Churn   No. Observations:                10000\n",
       "Model:                          Logit   Df Residuals:                     9996\n",
       "Method:                           MLE   Df Model:                            3\n",
       "Date:                Sun, 22 Aug 2021   Pseudo R-squ.:                  0.3058\n",
       "Time:                        18:25:26   Log-Likelihood:                -4014.1\n",
       "converged:                       True   LL-Null:                       -5782.2\n",
       "Covariance Type:            nonrobust   LLR p-value:                     0.000\n",
       "==============================================================================\n",
       "                 coef    std err          z      P>|z|      [0.025      0.975]\n",
       "------------------------------------------------------------------------------\n",
       "const          1.0116      0.084     12.054      0.000       0.847       1.176\n",
       "Age            0.0014      0.001      1.065      0.287      -0.001       0.004\n",
       "Contract      -1.0149      0.038    -26.572      0.000      -1.090      -0.940\n",
       "Tenure        -0.0597      0.001    -41.708      0.000      -0.063      -0.057\n",
       "==============================================================================\n",
       "\"\"\""
      ]
     },
     "execution_count": 3,
     "metadata": {},
     "output_type": "execute_result"
    }
   ],
   "source": [
    "import numpy as np\n",
    "import pandas as pd\n",
    "import seaborn as sns\n",
    "from scipy import stats\n",
    "import matplotlib.pyplot as plt\n",
    "import matplotlib as mpl\n",
    "import pylab\n",
    "\n",
    "import statsmodels.api as sm\n",
    "from statsmodels.stats import diagnostic as diag\n",
    "from statsmodels.stats.outliers_influence import variance_inflation_factor\n",
    "\n",
    "from sklearn.linear_model import LogisticRegression\n",
    "from sklearn import metrics\n",
    "from sklearn.metrics import confusion_matrix\n",
    "from sklearn.metrics import classification_report\n",
    "from sklearn.model_selection import train_test_split\n",
    "from sklearn.metrics import mean_squared_error, r2_score, mean_absolute_error\n",
    "\n",
    "\n",
    "df = pd.read_csv(\"churn_clean.csv\", usecols=[15,16,19,20,25,39], names=['Age','Income','Churn','Outage','Contract','Tenure'], skiprows = [0])\n",
    "df['Contract'].replace({'Month-to-month':0,'One year':1,'Two Year':2},inplace = True)\n",
    "df['Churn'].replace({'No':0,'Yes':1},inplace = True)\n",
    "#df['Churn'].value_counts()\n",
    "#df.groupby('Churn').mean()\n",
    "\n",
    "\n",
    "###########################################################BEGIN REDUCED MODEL CODE\n",
    "##Create the X and Y Datasets\n",
    "##Remove the Tenure and Bandwidth datapoints\n",
    "df = df.drop(['Outage','Income'],axis = 1)\n",
    "\n",
    "#df.to_csv('D208_task2_Data.csv')\n",
    "R_X = df.drop('Churn', axis =1)\n",
    "R_Y = df[['Churn']]\n",
    "\n",
    "# Split X and y into X_\n",
    "from sklearn.model_selection import train_test_split\n",
    "X_train, X_test, y_train, y_test = train_test_split(R_X, R_Y, test_size=0.25, random_state=0)\n",
    "\n",
    "# create a Linear Regression model object\n",
    "lr = LogisticRegression(solver=' ')\n",
    "\n",
    "# pass through the X_train & y_train data set\n",
    "lr.fit(X_train, y_train.values.ravel())\n",
    "\n",
    "# Returns a NumPy Array\n",
    "\n",
    "y_pred = lr.predict(X_test)\n",
    "\n",
    "\n",
    "Xc = sm.add_constant(R_X)\n",
    "logistic_regression = sm.Logit(R_Y,Xc)\n",
    "fitted_model = logistic_regression.fit()\n",
    "fitted_model.summary()"
   ]
  },
  {
   "cell_type": "code",
   "execution_count": 4,
   "metadata": {},
   "outputs": [
    {
     "name": "stdout",
     "output_type": "stream",
     "text": [
      "Score of Prediction:\n",
      "0.8168\n"
     ]
    },
    {
     "data": {
      "image/png": "[encoded data removed]",
      "text/plain": [
       "<Figure size 288x288 with 2 Axes>"
      ]
     },
     "metadata": {
      "needs_background": "light"
     },
     "output_type": "display_data"
    },
    {
     "data": {
      "image/png": "[encoded data removed]",
      "text/plain": [
       "<Figure size 432x288 with 1 Axes>"
      ]
     },
     "metadata": {
      "needs_background": "light"
     },
     "output_type": "display_data"
    },
    {
     "name": "stdout",
     "output_type": "stream",
     "text": [
      "              precision    recall  f1-score   support\n",
      "\n",
      "           0       0.87      0.88      0.87      1840\n",
      "           1       0.65      0.63      0.64       660\n",
      "\n",
      "    accuracy                           0.81      2500\n",
      "   macro avg       0.76      0.75      0.76      2500\n",
      "weighted avg       0.81      0.81      0.81      2500\n",
      "\n",
      "Accuracy: 0.8116\n",
      "Precision: 0.6469673405909798\n",
      "Recall: 0.6303030303030303\n"
     ]
    },
    {
     "data": {
      "image/png": "[encoded data removed]",
      "text/plain": [
       "<Figure size 432x288 with 1 Axes>"
      ]
     },
     "metadata": {
      "needs_background": "light"
     },
     "output_type": "display_data"
    }
   ],
   "source": [
    "score = lr.score(X_train,y_train)\n",
    "print(\"Score of Prediction:\")\n",
    "print(score)\n",
    "\n",
    "\n",
    "#cnf_matrix = metrics.confusion_matrix(y_test, y_pred)\n",
    "plt.matshow(confusion_matrix(y_test, y_pred))\n",
    "plt.title('Confusion matrix')\n",
    "plt.colorbar()\n",
    "plt.ylabel('True label')\n",
    "plt.xlabel('Predicted label')\n",
    "plt.show()\n",
    "\n",
    "def model(x):\n",
    "    return 1 / (1 + np.exp(-x))\n",
    "\n",
    "X_vals = np.linspace(-10, 10, 1000)\n",
    "plt.plot(X_vals, model(X_vals), color='blue', linewidth=3)\n",
    "plt.ylabel('sigma(t)')\n",
    "plt.xlabel('t')\n",
    "\n",
    "plt.show()\n",
    "\n",
    "\n",
    "\n",
    "\n",
    "\n",
    "print(classification_report(y_test, lr.predict(X_test)))\n",
    "\n",
    "\n",
    "\n",
    "print(\"Accuracy:\",metrics.accuracy_score(y_test, y_pred))\n",
    "print(\"Precision:\",metrics.precision_score(y_test, y_pred))\n",
    "print(\"Recall:\",metrics.recall_score(y_test, y_pred))\n",
    "\n",
    "\n",
    "y_pred_proba = lr.predict_proba(X_test)[::,1]\n",
    "fpr, tpr, _ = metrics.roc_curve(y_test,  y_pred_proba)\n",
    "auc = metrics.roc_auc_score(y_test, y_pred_proba)\n",
    "plt.plot(fpr,tpr,label=\"data 1, auc=\"+str(auc))\n",
    "plt.legend(loc=4)\n",
    "plt.show()"
   ]
  }
 ],
 "metadata": {
  "kernelspec": {
   "display_name": "Python 3 (ipykernel)",
   "language": "python",
   "name": "python3"
  },
  "language_info": {
   "codemirror_mode": {
    "name": "ipython",
    "version": 3
   },
   "file_extension": ".py",
   "mimetype": "text/x-python",
   "name": "python",
   "nbconvert_exporter": "python",
   "pygments_lexer": "ipython3",
   "version": "3.8.11"
  }
 },
 "nbformat": 4,
 "nbformat_minor": 2
}
